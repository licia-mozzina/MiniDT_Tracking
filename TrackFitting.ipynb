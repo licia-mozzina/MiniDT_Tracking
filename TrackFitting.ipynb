{
 "cells": [
  {
   "cell_type": "code",
   "execution_count": null,
   "id": "66c7bdc0",
   "metadata": {},
   "outputs": [],
   "source": [
    "import sys, os\n",
    "\n",
    "from RecHit import RecHit\n",
    "from RecTrack import RecTrack\n",
    "from TimestampsTPMatching import * \n",
    "from Rates import *\n",
    "from Plots import *"
   ]
  },
  {
   "cell_type": "code",
   "execution_count": null,
   "id": "4340f69b",
   "metadata": {},
   "outputs": [],
   "source": [
    "sys.path.append('/afs/cern.ch/work/l/lmozzina/public')\n",
    "run = 'example_data_cosmic_rays' \n",
    "d = __import__(run)\n",
    "\n",
    "time_window_TP = 15 # ns\n",
    "\n",
    "plots_dir = f\"Plots_{run}_{time_window_TP}ns\"\n",
    "\n",
    "if not os.path.exists(plots_dir):\n",
    "    os.makedirs(plots_dir)"
   ]
  },
  {
   "cell_type": "code",
   "execution_count": null,
   "id": "7b8cd884",
   "metadata": {},
   "outputs": [],
   "source": [
    "# hits = GetGlobalTimestampsHit(d.hits,'light',0) \n",
    "hits = GetGlobalTimestampsHit(d.hits,'light',1e3)\n",
    "\n",
    "tpsX = GetGlobalTimestampsTP(d.tpgs_mb1)\n",
    "tpsY = GetGlobalTimestampsTP(d.tpgs_mb2)\n",
    "\n",
    "matched_tp_pairs_X = MatchTPsSameBX(tpsX, tpsY, 3, 4, time_window_TP) # L with H match, +/- 15 ns time window\n",
    "matched_tp_pairs_Y = MatchTPsSameBX(tpsY, tpsX, 3, 4, time_window_TP) # L with H match, +/- 15 ns time window"
   ]
  },
  {
   "cell_type": "code",
   "execution_count": null,
   "id": "72446646",
   "metadata": {},
   "outputs": [],
   "source": [
    "PlotLayerRates(hits, run, plots_dir)\n",
    "PlotCellRates(hits, run, plots_dir)"
   ]
  },
  {
   "cell_type": "code",
   "execution_count": null,
   "id": "ea1f55cc",
   "metadata": {},
   "outputs": [],
   "source": [
    "RecTracks_X = [] \n",
    "RecTracks_Y = []\n",
    "\n",
    "n_hits_X = []\n",
    "n_hits_Y = []\n",
    "\n",
    "slope_X = []\n",
    "slope_Y = []\n",
    "\n",
    "XIntercept_X = []\n",
    "XIntercept_Y = []\n",
    "\n",
    "ChiSquare_X = []\n",
    "ChiSquare_Y = []\n",
    "\n",
    "Residual_X = []\n",
    "Residual_Y = []\n",
    "\n",
    "old_index_X = 0\n",
    "old_index_Y = 0\n",
    "for pair in matched_tp_pairs_X:\n",
    "    rec_hits_X = []\n",
    "    \n",
    "    tpx = pair[0]\n",
    "    tpy = pair[1]\n",
    "    tpy_ts = tpsY[tpy]['timestamp'] # time match with TPG y\n",
    "    old_index_X, matched_hits_X = SelectHits(tpy_ts, hits, 0, -100, 500, 250, old_index_X) \n",
    "        \n",
    "    for index in matched_hits_X:\n",
    "        st, ly, wi = hits[index]['st'], hits[index]['ly'], hits[index]['wi']\n",
    "        hit_ts = hits[index]['timestamp']\n",
    "        tdiff = hit_ts - tpy_ts                    # here we assign the hit timestamp to compute its position. tp time is reference\n",
    "        rec_hit = RecHit(tdiff*1E9, st, ly, wi)\n",
    "        rec_hit.SetHitPosition()\n",
    "        rec_hits_X.append(rec_hit) \n",
    "         \n",
    "    rec_track_X = RecTrack(rec_hits_X, tpsX[tpx])\n",
    "    rec_track_X.FitTPLateralities()\n",
    "    n_hits_X.append(rec_track_X.nHits)\n",
    "\n",
    "    slope_X.append([rec_track_X.Slope, rec_track_X.nHits])\n",
    "    XIntercept_X.append([rec_track_X.XIntercept, rec_track_X.nHits])\n",
    "    ChiSquare_X.append([rec_track_X.ChiSquare, rec_track_X.nHits])\n",
    "    \n",
    "    Residual_X.append([rec_track_X.Residual_Hit_Wire_Distance(), rec_track_X.nHits])\n",
    "    \n",
    "    RecTracks_X.append(rec_track_X)  \n",
    "\n",
    "for pair in matched_tp_pairs_Y:\n",
    "    rec_hits_Y = []\n",
    "    \n",
    "    tpx = pair[1]\n",
    "    tpy = pair[0]\n",
    "    tpx_ts = tpsX[tpx]['timestamp']\n",
    "    old_index_Y, matched_hits_Y = SelectHits(tpx_ts, hits, 1, -100, 500, 250, old_index_Y)  \n",
    "        \n",
    "    for index in matched_hits_Y:\n",
    "        st, ly, wi = hits[index]['st'], hits[index]['ly'], hits[index]['wi']\n",
    "        hit_ts = hits[index]['timestamp']\n",
    "        tdiff = hit_ts-tpx_ts\n",
    "        rec_hit = RecHit(tdiff*1E9, st, ly, wi)\n",
    "        rec_hit.SetHitPosition()\n",
    "        rec_hits_Y.append(rec_hit)\n",
    "\n",
    "    rec_track_Y = RecTrack(rec_hits_Y, tpsY[tpy]) \n",
    "    rec_track_Y.FitTPLateralities()\n",
    "    n_hits_Y.append(rec_track_Y.nHits)\n",
    "    \n",
    "    slope_Y.append([rec_track_Y.Slope, rec_track_Y.nHits])\n",
    "    XIntercept_Y.append([rec_track_Y.XIntercept, rec_track_Y.nHits])\n",
    "    ChiSquare_Y.append([rec_track_Y.ChiSquare, rec_track_Y.nHits])\n",
    "    \n",
    "    Residual_Y.append([rec_track_Y.Residual_Hit_Wire_Distance(), rec_track_Y.nHits])\n",
    "    \n",
    "    RecTracks_Y.append(rec_track_Y)  "
   ]
  },
  {
   "cell_type": "code",
   "execution_count": null,
   "id": "9e06e3a0",
   "metadata": {},
   "outputs": [],
   "source": [
    "PlotHits(n_hits_X, n_hits_Y, run, plots_dir)"
   ]
  },
  {
   "cell_type": "code",
   "execution_count": null,
   "id": "02438012",
   "metadata": {},
   "outputs": [],
   "source": [
    "PlotSlopes(slope_X, slope_Y, run, plots_dir)\n",
    "PlotSlopes(slope_X, slope_Y, run, plots_dir, 3)\n",
    "PlotSlopes(slope_X, slope_Y, run, plots_dir, 4)"
   ]
  },
  {
   "cell_type": "code",
   "execution_count": null,
   "id": "bfd3b72c",
   "metadata": {},
   "outputs": [],
   "source": [
    "PlotXIntercepts(XIntercept_X, XIntercept_Y, run, plots_dir)\n",
    "PlotXIntercepts(XIntercept_X, XIntercept_Y, run, plots_dir, 3)\n",
    "PlotXIntercepts(XIntercept_X, XIntercept_Y, run, plots_dir, 4)"
   ]
  },
  {
   "cell_type": "code",
   "execution_count": null,
   "id": "81acac34",
   "metadata": {},
   "outputs": [],
   "source": [
    "PlotChiSquares(ChiSquare_X, ChiSquare_Y, run, plots_dir)\n",
    "PlotChiSquares(ChiSquare_X, ChiSquare_Y, run, plots_dir, 3)\n",
    "PlotChiSquares(ChiSquare_X, ChiSquare_Y, run, plots_dir, 4)"
   ]
  },
  {
   "cell_type": "code",
   "execution_count": null,
   "id": "5a8ef414",
   "metadata": {},
   "outputs": [],
   "source": [
    "PlotResiduals(Residual_X, Residual_Y, run, plots_dir)\n",
    "PlotResiduals(Residual_X, Residual_Y, run, plots_dir, 3)\n",
    "PlotResiduals(Residual_X, Residual_Y, run, plots_dir, 4)"
   ]
  },
  {
   "cell_type": "code",
   "execution_count": null,
   "id": "398747c0",
   "metadata": {},
   "outputs": [],
   "source": [
    "PlotResidualsVsDistance(Residual_X, Residual_Y, run, plots_dir)"
   ]
  },
  {
   "cell_type": "code",
   "execution_count": null,
   "id": "78d18600",
   "metadata": {},
   "outputs": [],
   "source": [
    "c_values = 500\n",
    "m_values = 1000\n",
    "\n",
    "for track in RecTracks_X:\n",
    "    track.HoughFit(c_values, m_values)\n",
    "    track.PlotFit()\n",
    "    \n",
    "for track in RecTracks_Y:\n",
    "    track.HoughFit(c_values, m_values)\n",
    "    track.PlotFit()"
   ]
  }
 ],
 "metadata": {
  "@webio": {
   "lastCommId": null,
   "lastKernelId": null
  },
  "kernelspec": {
   "display_name": "Python 3",
   "language": "python",
   "name": "python3"
  },
  "language_info": {
   "codemirror_mode": {
    "name": "ipython",
    "version": 3
   },
   "file_extension": ".py",
   "mimetype": "text/x-python",
   "name": "python",
   "nbconvert_exporter": "python",
   "pygments_lexer": "ipython3",
   "version": "3.11.9"
  }
 },
 "nbformat": 4,
 "nbformat_minor": 5
}
